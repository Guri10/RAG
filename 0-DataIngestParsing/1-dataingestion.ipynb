{
 "cells": [
  {
   "cell_type": "markdown",
   "id": "c186cec4",
   "metadata": {},
   "source": [
    "### Introduction to Data Ingestion"
   ]
  },
  {
   "cell_type": "code",
   "execution_count": 25,
   "id": "5ace7ee7",
   "metadata": {},
   "outputs": [],
   "source": [
    "import os\n",
    "from typing import List, Dict, Any\n",
    "import pandas as pd"
   ]
  },
  {
   "cell_type": "code",
   "execution_count": 26,
   "id": "ab694987",
   "metadata": {},
   "outputs": [],
   "source": [
    "from langchain_core.documents import Document\n",
    "from langchain.text_splitter import(\n",
    "    RecursiveCharacterTextSplitter,\n",
    "    CharacterTextSplitter,\n",
    "    TokenTextSplitter\n",
    ")"
   ]
  },
  {
   "cell_type": "markdown",
   "id": "05207456",
   "metadata": {},
   "source": [
    "### Understand Document Structure in Langchain"
   ]
  },
  {
   "cell_type": "code",
   "execution_count": 27,
   "id": "cfcab0a2",
   "metadata": {},
   "outputs": [
    {
     "name": "stdout",
     "output_type": "stream",
     "text": [
      "Document Structure\n",
      "Content :This is the main text content that will be embedded and searched.\n",
      "Metadata :{'source': 'example.txt', 'page': '1', 'author': 'Atharva', 'date_created': '09-19-2025', 'custom_field': 'any_value'}\n"
     ]
    }
   ],
   "source": [
    "## create a simple document\n",
    "doc = Document(\n",
    "    page_content='This is the main text content that will be embedded and searched.',\n",
    "    metadata = {\n",
    "        \"source\":\"example.txt\",\n",
    "        \"page\":'1',\n",
    "        \"author\":\"Atharva\",\n",
    "        \"date_created\":\"09-19-2025\",\n",
    "        \"custom_field\":\"any_value\"\n",
    "    }\n",
    ")\n",
    "\n",
    "print(\"Document Structure\")\n",
    "print(f\"Content :{doc.page_content}\")\n",
    "print(f\"Metadata :{doc.metadata}\")"
   ]
  },
  {
   "cell_type": "markdown",
   "id": "01404838",
   "metadata": {},
   "source": [
    "### Text Files (.txt)"
   ]
  },
  {
   "cell_type": "code",
   "execution_count": 28,
   "id": "37364a3e",
   "metadata": {},
   "outputs": [],
   "source": [
    "import os\n",
    "os.makedirs('data/text_files',exist_ok=True)"
   ]
  },
  {
   "cell_type": "code",
   "execution_count": 29,
   "id": "d00bca5e",
   "metadata": {},
   "outputs": [
    {
     "name": "stdout",
     "output_type": "stream",
     "text": [
      "Sample file created\n"
     ]
    }
   ],
   "source": [
    "sample_texts = {\n",
    "    'data/text_files/python_intro.txt':\"\"\"Introduction to Python\n",
    "\n",
    "Python is a high-level, interpreted programming language that is widely \n",
    "used for various applications such as web development, scientific \n",
    "computing, and data analysis. Created in the late 1980s by Guido van \n",
    "Rossum, Python is known for its simplicity, readability, and ease of use, \n",
    "making it an ideal language for beginners and experts alike.\n",
    "\n",
    "Python's syntax is concise and intuitive, with a focus on code \n",
    "readability. It has a vast standard library that includes modules for \n",
    "tasks such as file I/O, networking, and data structures. The language also \n",
    "supports object-oriented programming (OOP) concepts like classes and \n",
    "inheritance.\n",
    "\"\"\",\n",
    "    'data/text_files/ml_intro.txt':\"\"\"Introduction to Machine Learning\n",
    "\n",
    "Machine learning is a subset of artificial intelligence that enables \n",
    "systems to learn from data without being explicitly programmed. It \n",
    "involves training algorithms on large datasets to enable them to make \n",
    "predictions, classify patterns, or make decisions on their own. The goal \n",
    "of machine learning is to improve the accuracy and efficiency of tasks \n",
    "such as image recognition, natural language processing, and predictive \n",
    "modeling. Machine learning algorithms can be broadly classified into \n",
    "supervised, unsupervised, and reinforcement learning, each with its unique \n",
    "approach to data-driven decision-making. It has numerous applications in \n",
    "areas like computer vision, robotics, and healthcare.\n",
    "    \"\"\"\n",
    "}\n",
    "\n",
    "for filepath, content in sample_texts.items():\n",
    "    with open(filepath,'w', encoding='utf-8') as f:\n",
    "        f.write(content)\n",
    "\n",
    "print(\"Sample file created\")"
   ]
  },
  {
   "cell_type": "markdown",
   "id": "ad47fa18",
   "metadata": {},
   "source": [
    "### TextLoader - Read Single File"
   ]
  },
  {
   "cell_type": "code",
   "execution_count": 30,
   "id": "f236b9ce",
   "metadata": {},
   "outputs": [],
   "source": [
    "from langchain.document_loaders import TextLoader\n",
    "\n",
    "# Loading a single txt file\n",
    "loader = TextLoader('data/text_files/python_intro.txt', encoding='utf-8')\n",
    "\n",
    "documents = loader.load()\n"
   ]
  },
  {
   "cell_type": "code",
   "execution_count": 31,
   "id": "990ceb97",
   "metadata": {},
   "outputs": [
    {
     "name": "stdout",
     "output_type": "stream",
     "text": [
      "<class 'list'>\n"
     ]
    }
   ],
   "source": [
    "print(type(documents))"
   ]
  },
  {
   "cell_type": "code",
   "execution_count": 32,
   "id": "51735bc8",
   "metadata": {},
   "outputs": [
    {
     "name": "stdout",
     "output_type": "stream",
     "text": [
      "[Document(metadata={'source': 'data/text_files/python_intro.txt'}, page_content=\"Introduction to Python\\n\\nPython is a high-level, interpreted programming language that is widely \\nused for various applications such as web development, scientific \\ncomputing, and data analysis. Created in the late 1980s by Guido van \\nRossum, Python is known for its simplicity, readability, and ease of use, \\nmaking it an ideal language for beginners and experts alike.\\n\\nPython's syntax is concise and intuitive, with a focus on code \\nreadability. It has a vast standard library that includes modules for \\ntasks such as file I/O, networking, and data structures. The language also \\nsupports object-oriented programming (OOP) concepts like classes and \\ninheritance.\\n\")]\n"
     ]
    }
   ],
   "source": [
    "print(documents)"
   ]
  },
  {
   "cell_type": "code",
   "execution_count": 33,
   "id": "2a10d23d",
   "metadata": {},
   "outputs": [
    {
     "name": "stdout",
     "output_type": "stream",
     "text": [
      " Loaded 1 documents\n",
      "Content preview:\n",
      "Introduction to Python\n",
      "\n",
      "Python is a high-level, interpreted programming language that is widely \n",
      "use\n",
      "Metadata preview:\n",
      "{'source': 'data/text_files/python_intro.txt'}\n"
     ]
    }
   ],
   "source": [
    "print(f\" Loaded {len(documents)} documents\")\n",
    "print(\"Content preview:\")\n",
    "print(documents[0].page_content[:100])\n",
    "print(\"Metadata preview:\")\n",
    "print(documents[0].metadata)\n",
    "\n",
    "# Loading multiple txt files\n"
   ]
  },
  {
   "cell_type": "markdown",
   "id": "7dd57aa9",
   "metadata": {},
   "source": [
    "### Directory Loader - Read All Files in a Directory"
   ]
  },
  {
   "cell_type": "code",
   "execution_count": 34,
   "id": "4119f5a6",
   "metadata": {},
   "outputs": [
    {
     "name": "stderr",
     "output_type": "stream",
     "text": [
      "100%|██████████| 2/2 [00:00<00:00, 881.53it/s]"
     ]
    },
    {
     "name": "stdout",
     "output_type": "stream",
     "text": [
      "Document 1:\n",
      "Content: Introduction to Python\n",
      "\n",
      "Python is a high-level, interpreted programming language that is widely \n",
      "use\n",
      "Metadata: {'source': 'data/text_files/python_intro.txt'}\n",
      "\n",
      "\n",
      "Document 2:\n",
      "Content: Introduction to Machine Learning\n",
      "\n",
      "Machine learning is a subset of artificial intelligence that enabl\n",
      "Metadata: {'source': 'data/text_files/ml_intro.txt'}\n",
      "\n",
      "\n",
      "Dicrectory Loader Characteristics\n",
      "Advantages:\n",
      "- Loads multiple files at once\n",
      "- supports glob patterns\n",
      "Disadvantage:\n",
      "- Does not support metadata filtering\n",
      "- All files must be of the same type\n",
      "- Can be slow for large directories\n"
     ]
    },
    {
     "name": "stderr",
     "output_type": "stream",
     "text": [
      "\n"
     ]
    }
   ],
   "source": [
    "from langchain.document_loaders import DirectoryLoader\n",
    "\n",
    "dir_loader = DirectoryLoader(\n",
    "    'data/text_files',\n",
    "    glob=\"**/*.txt\",\n",
    "    loader_cls = TextLoader,\n",
    "    loader_kwargs = {'encoding':'utf-8'},\n",
    "    show_progress=True\n",
    ")\n",
    "\n",
    "documents = dir_loader.load()\n",
    "\n",
    "for i, doc in enumerate(documents):\n",
    "    print(f\"Document {i+1}:\")\n",
    "    print(f\"Content: {doc.page_content[:100]}\")\n",
    "    print(f\"Metadata: {doc.metadata}\")\n",
    "    print(\"\\n\")\n",
    "\n",
    "print(\"Dicrectory Loader Characteristics\")\n",
    "print(\"Advantages:\")\n",
    "print(\"- Loads multiple files at once\")\n",
    "print(\"- supports glob patterns\")\n",
    "\n",
    "print(\"Disadvantage:\")\n",
    "print(\"- Does not support metadata filtering\")\n",
    "print(\"- All files must be of the same type\")\n",
    "print(\"- Can be slow for large directories\")\n",
    "\n",
    "\n"
   ]
  },
  {
   "cell_type": "markdown",
   "id": "48396e4b",
   "metadata": {},
   "source": [
    "## Text Splitting Stratergies"
   ]
  },
  {
   "cell_type": "code",
   "execution_count": 35,
   "id": "99c57992",
   "metadata": {},
   "outputs": [
    {
     "name": "stdout",
     "output_type": "stream",
     "text": [
      "[Document(metadata={'source': 'data/text_files/python_intro.txt'}, page_content=\"Introduction to Python\\n\\nPython is a high-level, interpreted programming language that is widely \\nused for various applications such as web development, scientific \\ncomputing, and data analysis. Created in the late 1980s by Guido van \\nRossum, Python is known for its simplicity, readability, and ease of use, \\nmaking it an ideal language for beginners and experts alike.\\n\\nPython's syntax is concise and intuitive, with a focus on code \\nreadability. It has a vast standard library that includes modules for \\ntasks such as file I/O, networking, and data structures. The language also \\nsupports object-oriented programming (OOP) concepts like classes and \\ninheritance.\\n\"), Document(metadata={'source': 'data/text_files/ml_intro.txt'}, page_content='Introduction to Machine Learning\\n\\nMachine learning is a subset of artificial intelligence that enables \\nsystems to learn from data without being explicitly programmed. It \\ninvolves training algorithms on large datasets to enable them to make \\npredictions, classify patterns, or make decisions on their own. The goal \\nof machine learning is to improve the accuracy and efficiency of tasks \\nsuch as image recognition, natural language processing, and predictive \\nmodeling. Machine learning algorithms can be broadly classified into \\nsupervised, unsupervised, and reinforcement learning, each with its unique \\napproach to data-driven decision-making. It has numerous applications in \\nareas like computer vision, robotics, and healthcare.\\n    ')]\n"
     ]
    }
   ],
   "source": [
    "from langchain.text_splitter import(\n",
    "    RecursiveCharacterTextSplitter,\n",
    "    CharacterTextSplitter,\n",
    "    TokenTextSplitter\n",
    ")\n",
    "print(documents)"
   ]
  },
  {
   "cell_type": "code",
   "execution_count": 51,
   "id": "ffddc99e",
   "metadata": {},
   "outputs": [
    {
     "data": {
      "text/plain": [
       "\"Introduction to Python\\n\\nPython is a high-level, interpreted programming language that is widely \\nused for various applications such as web development, scientific \\ncomputing, and data analysis. Created in the late 1980s by Guido van \\nRossum, Python is known for its simplicity, readability, and ease of use, \\nmaking it an ideal language for beginners and experts alike.\\n\\nPython's syntax is concise and intuitive, with a focus on code \\nreadability. It has a vast standard library that includes modules for \\ntasks such as file I/O, networking, and data structures. The language also \\nsupports object-oriented programming (OOP) concepts like classes and \\ninheritance.\\n\""
      ]
     },
     "execution_count": 51,
     "metadata": {},
     "output_type": "execute_result"
    }
   ],
   "source": [
    "### Method 1: Character Text Splitter\n",
    "text = documents[0].page_content\n",
    "text "
   ]
  },
  {
   "cell_type": "code",
   "execution_count": 52,
   "id": "a6138c50",
   "metadata": {},
   "outputs": [
    {
     "name": "stdout",
     "output_type": "stream",
     "text": [
      "Created 9 chunks\n",
      "First chunk:\n",
      "Introduction to Python\n",
      "Python is a high-level, interpreted programming language that is widely\n",
      "--------------------------------\n",
      "next chunk:\n",
      "used for various applications such as web development, scientific\n"
     ]
    }
   ],
   "source": [
    "char_splitter = CharacterTextSplitter(\n",
    "    separator = \"\\n\",\n",
    "    chunk_size = 100,\n",
    "    chunk_overlap = 20,\n",
    "    length_function = len\n",
    ")\n",
    "\n",
    "char_chunks = char_splitter.split_text(text)\n",
    "print(f\"Created {len(char_chunks)} chunks\")\n",
    "print(\"First chunk:\")\n",
    "print(char_chunks[0])\n",
    "print('--------------------------------')\n",
    "print(\"next chunk:\")\n",
    "print(char_chunks[1])\n",
    "\n",
    "\n",
    "\n"
   ]
  },
  {
   "cell_type": "code",
   "execution_count": 53,
   "id": "298b46e9",
   "metadata": {},
   "outputs": [
    {
     "name": "stdout",
     "output_type": "stream",
     "text": [
      "Created 9 chunks\n",
      "First chunk:\n",
      "Introduction to Python\n",
      "\n",
      "Python is a high-level, interpreted programming language that is widely\n",
      "--------------------------------\n",
      "Next chunk:\n",
      "that is widely \n",
      "used for various applications such as web development, scientific \n",
      "computing, and\n"
     ]
    }
   ],
   "source": [
    "# Method 2: Recursive Character Text Splitter\n",
    "recursive_splitter = RecursiveCharacterTextSplitter(\n",
    "    separators = [\" \"],\n",
    "    chunk_size = 100,\n",
    "    chunk_overlap = 20,\n",
    "    length_function = len\n",
    ")\n",
    "\n",
    "recursive_chunks = recursive_splitter.split_text(text)\n",
    "print(f\"Created {len(recursive_chunks)} chunks\")\n",
    "print(\"First chunk:\")\n",
    "print(recursive_chunks[0][:100])\n",
    "print('--------------------------------')\n",
    "print(\"Next chunk:\")\n",
    "print(recursive_chunks[1])\n",
    "\n"
   ]
  },
  {
   "cell_type": "code",
   "execution_count": 54,
   "id": "652afcf4",
   "metadata": {},
   "outputs": [
    {
     "name": "stdout",
     "output_type": "stream",
     "text": [
      "Simple Text example - 2 chunks created\n",
      "Chunk 1: 'This is a simple text. It doesn't have any natural breaks. This is the third'\n",
      "Chunk 2: 'This is the third sentence. Now we got to the fourth senetence.'\n",
      "\n"
     ]
    }
   ],
   "source": [
    "# Create text without natural breaks points\n",
    "text = \"This is a simple text. It doesn't have any natural breaks. This is the third sentence. Now we got to the fourth senetence.\"\n",
    "\n",
    "# Character Text Splitter\n",
    "splitter = RecursiveCharacterTextSplitter(\n",
    "    separators = [\" \"],\n",
    "    chunk_size = 80,\n",
    "    chunk_overlap = 20,\n",
    "    length_function = len\n",
    ")\n",
    "\n",
    "chunks = splitter.split_text(text)\n",
    "print(f\"Simple Text example - {len(chunks)} chunks created\")\n",
    "\n",
    "for i in range(len(chunks)-1):\n",
    "    print(f\"Chunk {i+1}: '{chunks[i]}'\")\n",
    "   \n",
    "    print(f\"Chunk {i+2}: '{chunks[i+1]}'\")\n",
    "    \n",
    "    print() \n",
    "   "
   ]
  },
  {
   "cell_type": "code",
   "execution_count": 56,
   "id": "19b3d5aa",
   "metadata": {},
   "outputs": [
    {
     "name": "stdout",
     "output_type": "stream",
     "text": [
      "Created 2 chunks\n",
      "First chunk:\n",
      "This is a simple text. It doesn't have any natural breaks. This is the third sentence.\n",
      "--------------------------------\n",
      "Next chunk:\n",
      " is the third sentence. Now we got to the fourth senetence.\n"
     ]
    }
   ],
   "source": [
    "### TOKEN TEXT SPLITTER\n",
    "from langchain.text_splitter import TokenTextSplitter\n",
    "\n",
    "text = \"This is a simple text. It doesn't have any natural breaks. This is the third sentence. Now we got to the fourth senetence.\"\n",
    "\n",
    "# Token Text Splitter\n",
    "token_splitter = TokenTextSplitter(\n",
    "    chunk_size = 20,\n",
    "    chunk_overlap = 5,\n",
    "    length_function = len\n",
    ")\n",
    "\n",
    "token_chunks = token_splitter.split_text(text)\n",
    "print(f\"Created {len(token_chunks)} chunks\")\n",
    "print(\"First chunk:\")\n",
    "print(token_chunks[0])\n",
    "print('--------------------------------')\n",
    "print(\"Next chunk:\")\n",
    "print(token_chunks[1])\n",
    "\n"
   ]
  },
  {
   "cell_type": "code",
   "execution_count": null,
   "id": "7aaab4f9",
   "metadata": {},
   "outputs": [],
   "source": []
  }
 ],
 "metadata": {
  "kernelspec": {
   "display_name": ".venv",
   "language": "python",
   "name": "python3"
  },
  "language_info": {
   "codemirror_mode": {
    "name": "ipython",
    "version": 3
   },
   "file_extension": ".py",
   "mimetype": "text/x-python",
   "name": "python",
   "nbconvert_exporter": "python",
   "pygments_lexer": "ipython3",
   "version": "3.13.7"
  }
 },
 "nbformat": 4,
 "nbformat_minor": 5
}
