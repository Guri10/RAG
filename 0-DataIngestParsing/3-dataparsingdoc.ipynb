{
 "cells": [
  {
   "cell_type": "markdown",
   "id": "a4ff5c74",
   "metadata": {},
   "source": [
    "### Word Document Processing"
   ]
  },
  {
   "cell_type": "code",
   "execution_count": 1,
   "id": "3d897f8f",
   "metadata": {},
   "outputs": [],
   "source": [
    "from docx import Document as DocxDocument\n",
    "import os"
   ]
  },
  {
   "cell_type": "code",
   "execution_count": 2,
   "id": "f804e55e",
   "metadata": {},
   "outputs": [],
   "source": [
    "from langchain_community.document_loaders import Docx2txtLoader, UnstructuredWordDocumentLoader"
   ]
  },
  {
   "cell_type": "code",
   "execution_count": 4,
   "id": "bb845512",
   "metadata": {},
   "outputs": [
    {
     "name": "stdout",
     "output_type": "stream",
     "text": [
      "1. Using Docx2txtLoader\n",
      "\n",
      "Loaded 1 document(s)\n",
      "Content preview: Sample Company Knowledge Base\n",
      "\n",
      "1. Introduction\n",
      "\n",
      "This document contains sample structured and unstructured content to help you practice Word document parsing for Retrieval-Augmented Generation (RAG) pi...\n",
      "Metadata: {'source': 'data/word_files/sample_rag_parsing.docx'}\n"
     ]
    }
   ],
   "source": [
    "## Method 1: using DocxtxtLoader\n",
    "print(\"1. Using Docx2txtLoader\")\n",
    "\n",
    "try:\n",
    "    docx_loader = Docx2txtLoader('data/word_files/sample_rag_parsing.docx')\n",
    "    docs = docx_loader.load()\n",
    "    print(f\"\\nLoaded {len(docs)} document(s)\")\n",
    "    print(f\"Content preview: {docs[0].page_content[:200]}...\")\n",
    "    print(f\"Metadata: {docs[0].metadata}\")\n",
    "except Exception as e:\n",
    "    print(f\"Error: {e}\")\n"
   ]
  },
  {
   "cell_type": "code",
   "execution_count": 7,
   "id": "1d1cb3cf",
   "metadata": {},
   "outputs": [
    {
     "name": "stdout",
     "output_type": "stream",
     "text": [
      "\n",
      " Using UnstructuredWordDocumentLoader\n",
      "Loaded 17 elements\n",
      "\n",
      "Element 1:\n",
      "Type: Title\n",
      "Content: Sample Company Knowledge Base...\n",
      "\n",
      "Element 2:\n",
      "Type: Title\n",
      "Content: 1. Introduction...\n",
      "\n",
      "Element 3:\n",
      "Type: NarrativeText\n",
      "Content: This document contains sample structured and unstructured content to help you practice Word document...\n"
     ]
    }
   ],
   "source": [
    "## Method 2\n",
    "print(\"\\n Using UnstructuredWordDocumentLoader\")\n",
    "try:\n",
    "    unstructured_loader = UnstructuredWordDocumentLoader('data/word_files/sample_rag_parsing.docx', mode='elements')\n",
    "    unstructured_docs = unstructured_loader.load()\n",
    "    print(f'Loaded {len(unstructured_docs)} elements')\n",
    "    for i, doc in enumerate(unstructured_docs[:3]):\n",
    "        print(f\"\\nElement {i+1}:\")\n",
    "        print(f\"Type: {doc.metadata.get('category','unknown')}\")\n",
    "        print(f'Content: {doc.page_content[:100]}...')\n",
    "except Exception as e:\n",
    "    print(e)\n",
    "\n"
   ]
  },
  {
   "cell_type": "code",
   "execution_count": 9,
   "id": "8630881b",
   "metadata": {},
   "outputs": [
    {
     "data": {
      "text/plain": [
       "Document(metadata={'source': 'data/word_files/sample_rag_parsing.docx', 'category_depth': 0, 'file_directory': 'data/word_files', 'filename': 'sample_rag_parsing.docx', 'last_modified': '2025-10-15T14:50:14', 'languages': ['eng'], 'filetype': 'application/vnd.openxmlformats-officedocument.wordprocessingml.document', 'category': 'Title', 'element_id': '08110f902b202e3ef664ef14b5c8c5fc'}, page_content='Sample Company Knowledge Base')"
      ]
     },
     "execution_count": 9,
     "metadata": {},
     "output_type": "execute_result"
    }
   ],
   "source": [
    "unstructured_docs[0]"
   ]
  }
 ],
 "metadata": {
  "kernelspec": {
   "display_name": ".venv",
   "language": "python",
   "name": "python3"
  },
  "language_info": {
   "codemirror_mode": {
    "name": "ipython",
    "version": 3
   },
   "file_extension": ".py",
   "mimetype": "text/x-python",
   "name": "python",
   "nbconvert_exporter": "python",
   "pygments_lexer": "ipython3",
   "version": "3.13.7"
  }
 },
 "nbformat": 4,
 "nbformat_minor": 5
}
